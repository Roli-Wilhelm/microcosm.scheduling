{
 "cells": [
  {
   "cell_type": "markdown",
   "metadata": {},
   "source": [
    "This script is designed to schedule a time-series microcosm experiment in which all microcosms are destructively sampled at the same time, rather than sequentially from t=0. \n",
    "\n",
    "REQUIRED ARGUMENTS\n",
    "\n",
    "    -s     a start date and time [format: ]\n",
    "\n",
    "    -c     the e-mail address associated with the google calendar\n",
    "                    \n",
    "                \n",
    "REQUIREMENTS\n",
    "    gcalcli     https://github.com/insanum/gcalcli\n",
    "    "
   ]
  },
  {
   "cell_type": "code",
   "execution_count": null,
   "metadata": {
    "collapsed": true
   },
   "outputs": [],
   "source": [
    "import os, re, sys"
   ]
  },
  {
   "cell_type": "code",
   "execution_count": null,
   "metadata": {
    "collapsed": true
   },
   "outputs": [],
   "source": [
    "START = ''\n",
    "EMAIL = ''\n",
    "\n",
    "# Read command line args\n",
    "myopts, args = getopt.getopt(sys.argv[1:],\"s:c:\")\n",
    "\n",
    "for o, a in myopts:\n",
    "    if o == '-s':\n",
    "        START= a\n",
    "    if o == '-c':\n",
    "        EMAIL= a\n",
    "\n"
   ]
  }
 ],
 "metadata": {
  "kernelspec": {
   "display_name": "Python 3",
   "language": "python",
   "name": "python3"
  },
  "language_info": {
   "codemirror_mode": {
    "name": "ipython",
    "version": 3
   },
   "file_extension": ".py",
   "mimetype": "text/x-python",
   "name": "python",
   "nbconvert_exporter": "python",
   "pygments_lexer": "ipython3",
   "version": "3.5.2"
  }
 },
 "nbformat": 4,
 "nbformat_minor": 2
}

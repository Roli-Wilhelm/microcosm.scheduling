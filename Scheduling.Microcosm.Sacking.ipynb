{
 "cells": [
  {
   "cell_type": "markdown",
   "metadata": {},
   "source": [
    "This script is designed to schedule a time-series microcosm experiment in which all microcosms are destructively sampled at the same time, rather than sequentially from t=0. \n",
    "\n",
    "This script must be run from a python2.7 conda environment.\n",
    "\n",
    "REQUIREMENTS\n",
    "    \n",
    "    gcalcli    https://github.com/insanum/gcalcli\n",
    "    \n",
    "    "
   ]
  },
  {
   "cell_type": "code",
   "execution_count": 11,
   "metadata": {
    "collapsed": true
   },
   "outputs": [],
   "source": [
    "import os, re, sys, getopt, datetime"
   ]
  },
  {
   "cell_type": "code",
   "execution_count": 13,
   "metadata": {
    "collapsed": false
   },
   "outputs": [
    {
     "name": "stdout",
     "output_type": "stream",
     "text": [
      "Type Date dd/mm/yy: 28/02/17\n",
      "Time HH:MM : 21:30\n",
      "2017-02-28 21:30:00\n"
     ]
    }
   ],
   "source": [
    "## OBTAIN START DATE INFORMATION FROM USER\n",
    "def ObtainStart():\n",
    "    isValid=False\n",
    "    while not isValid:\n",
    "        userIn = raw_input(\"Enter Start Date (dd/mm/yy): \")\n",
    "        userTime = raw_input(\"Enter Start Time (HH:MM) : \")\n",
    "        \n",
    "        try: # strptime throws an exception if the input doesn't match the pattern\n",
    "            d = datetime.datetime.strptime(userIn, \"%d/%m/%y\")\n",
    "            t = datetime.datetime.strptime(userTime, \"%H:%M\")\n",
    "            c = datetime.datetime.combine(d.date(), t.time())\n",
    "            \n",
    "            isValid=True\n",
    "        except:\n",
    "            print \"Doh, try again!\\n\"\n",
    "    return c"
   ]
  },
  {
   "cell_type": "code",
   "execution_count": 18,
   "metadata": {
    "collapsed": false
   },
   "outputs": [
    {
     "name": "stdout",
     "output_type": "stream",
     "text": [
      "Enter Time Points (4,7,14,32,48): 12,24,36\n",
      "Enter Unit of Time (minutes | hours | days | months): hours\n",
      "You have scheduled 3 timepoints, on a time-scale of hours\n",
      "(['12', '24', '36'], 'hours')\n"
     ]
    }
   ],
   "source": [
    "## OBTAIN TIMEPOINT INFORMATION\n",
    "def ObtainTimePoints():\n",
    "    isValid=False\n",
    "    \n",
    "    while not isValid:\n",
    "        points = raw_input(\"Enter Time Points (4,7,14,32,48): \")\n",
    "        unit = raw_input(\"Enter Unit of Time (minutes | hours | days | months): \")\n",
    "        \n",
    "        try: # strptime throws an exception if the input doesn't match the pattern\n",
    "            points = points.strip()\n",
    "            timepoints = points.split(\",\")\n",
    "            \n",
    "            print \"You have scheduled \"+str(len(timepoints))+\" timepoints, on the time-scale of \"+unit\n",
    "            isValid=True\n",
    "        except:\n",
    "            print \"Doh, try again!\\n\"\n",
    "    return timepoints, unit"
   ]
  },
  {
   "cell_type": "code",
   "execution_count": 7,
   "metadata": {
    "collapsed": false
   },
   "outputs": [
    {
     "ename": "NameError",
     "evalue": "name 'ObtainDate' is not defined",
     "output_type": "error",
     "traceback": [
      "\u001b[0;31m---------------------------------------------------------------------------\u001b[0m",
      "\u001b[0;31mNameError\u001b[0m                                 Traceback (most recent call last)",
      "\u001b[0;32m<ipython-input-7-00a83847896a>\u001b[0m in \u001b[0;36m<module>\u001b[0;34m()\u001b[0m\n\u001b[0;32m----> 1\u001b[0;31m \u001b[0;32mprint\u001b[0m \u001b[0mObtainDate\u001b[0m\u001b[0;34m(\u001b[0m\u001b[0;34m)\u001b[0m\u001b[0;34m\u001b[0m\u001b[0m\n\u001b[0m\u001b[1;32m      2\u001b[0m \u001b[0;31m#os.system('gcalcli agenda')\u001b[0m\u001b[0;34m\u001b[0m\u001b[0;34m\u001b[0m\u001b[0m\n",
      "\u001b[0;31mNameError\u001b[0m: name 'ObtainDate' is not defined"
     ]
    }
   ],
   "source": [
    "\n",
    "#str(datetime.date.today() + relativedelta(days=+5))\n",
    "\n",
    "#os.system('gcalcli agenda')\n"
   ]
  },
  {
   "cell_type": "code",
   "execution_count": null,
   "metadata": {
    "collapsed": true
   },
   "outputs": [],
   "source": [
    "\n",
    "START = ObtainStart()\n",
    "Timing = ObtainTimePoints()"
   ]
  }
 ],
 "metadata": {
  "kernelspec": {
   "display_name": "Python 2",
   "language": "python",
   "name": "python2"
  },
  "language_info": {
   "codemirror_mode": {
    "name": "ipython",
    "version": 2
   },
   "file_extension": ".py",
   "mimetype": "text/x-python",
   "name": "python",
   "nbconvert_exporter": "python",
   "pygments_lexer": "ipython2",
   "version": "2.7.13"
  }
 },
 "nbformat": 4,
 "nbformat_minor": 2
}

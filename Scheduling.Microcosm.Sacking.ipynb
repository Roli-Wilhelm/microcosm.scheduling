{
 "cells": [
  {
   "cell_type": "markdown",
   "metadata": {},
   "source": [
    "This script is designed to schedule a time-series microcosm experiment in which all microcosms are destructively sampled at the same time, rather than sequentially from t=0. \n",
    "\n",
    "This script must be run from a python2.7 conda environment.\n",
    "\n",
    "REQUIREMENTS\n",
    "    \n",
    "    gcalcli    https://github.com/insanum/gcalcli\n",
    "    fortune    sudo apt-get install fortune\n",
    "    \n",
    "    "
   ]
  },
  {
   "cell_type": "code",
   "execution_count": 1,
   "metadata": {
    "collapsed": true
   },
   "outputs": [],
   "source": [
    "import os, re, sys, getopt, datetime, subprocess\n",
    "from dateutil.relativedelta import relativedelta"
   ]
  },
  {
   "cell_type": "code",
   "execution_count": 2,
   "metadata": {
    "collapsed": false
   },
   "outputs": [],
   "source": [
    "## OBTAIN START DATE INFORMATION FROM USER\n",
    "def ObtainStart():\n",
    "    isValid=False\n",
    "    \n",
    "    userDate = \"28/02/17\"\n",
    "    userTime = \"21:30\"\n",
    "    \n",
    "    while not isValid:\n",
    "        #userDate = raw_input(\"Enter Start Date (dd/mm/yy): \")\n",
    "        #userTime = raw_input(\"Enter Start Time (HH:MM): \")\n",
    "        \n",
    "        try: # strptime throws an exception if the input doesn't match the pattern\n",
    "            d = datetime.datetime.strptime(userDate, \"%d/%m/%y\")\n",
    "            t = datetime.datetime.strptime(userTime, \"%H:%M\")\n",
    "            c = datetime.datetime.combine(d.date(), t.time())\n",
    "            \n",
    "            isValid=True\n",
    "        except:\n",
    "            print \"Doh, try again!\\n\"\n",
    "    return c"
   ]
  },
  {
   "cell_type": "code",
   "execution_count": 3,
   "metadata": {
    "collapsed": false
   },
   "outputs": [],
   "source": [
    "## OBTAIN TIMEPOINT INFORMATION\n",
    "def ObtainTimePoints():\n",
    "    isValid=False\n",
    "    \n",
    "    while not isValid:\n",
    "        #points = raw_input(\"Enter Time Points (4,7,14,32,48): \")\n",
    "        #unit = raw_input(\"Enter Unit of Time (minute | hour | day | month): \")\n",
    "        \n",
    "        timepoints = ['12','24','36']\n",
    "        unit = 'hour'\n",
    "        \n",
    "        try: # strptime throws an exception if the input doesn't match the pattern\n",
    "            #points = points.strip()\n",
    "            #timepoints = points.split(\",\")\n",
    "            labels = timepoints\n",
    "            \n",
    "            print \"You have scheduled \"+str(len(timepoints))+\" timepoints, on the time-scale of \"+unit\n",
    "            isValid=True\n",
    "        except:\n",
    "            print \"Doh, try again!\\n\"\n",
    "    \n",
    "    timepoints = map(int, timepoints) #Convert strings to integers\n",
    "\n",
    "    ## Standardize units to hours\n",
    "    if unit == \"minutes\":\n",
    "        timepoints = [x / 60 for x in timepoints]\n",
    "        \n",
    "    elif unit == \"days\":\n",
    "        timepoints = [x * 24 for x in timepoints]\n",
    "        \n",
    "    elif unit == \"months\":\n",
    "        timepoints = [x * 24 * 31 for x in timepoints]\n",
    "        \n",
    "    return timepoints,labels,unit"
   ]
  },
  {
   "cell_type": "code",
   "execution_count": 4,
   "metadata": {
    "collapsed": false
   },
   "outputs": [],
   "source": [
    "## DETERMINE SCHEDULE\n",
    "def Schedule(start, timepoints):\n",
    "    # Determine pre-incubation length\n",
    "    #preincubation = int(raw_input(\"Please Specify the Number of days for Pre-incubation (0 if none): \"))\n",
    "    preincubation = 0\n",
    "    \n",
    "    # Calculate End Date\n",
    "    END_DATE = start + relativedelta(hours=+max(timepoints)) \n",
    "\n",
    "    ## Add preincubation time\n",
    "    END_DATE = END_DATE + relativedelta(days=+preincubation) \n",
    "    \n",
    "    preincubate_list = []\n",
    "    substrate_list = []\n",
    "    \n",
    "    for time in timepoints:\n",
    "        if preincubation != 0:\n",
    "            preincubate_list.append(END_DATE - relativedelta(hours=time) - relativedelta(days=preincubation))\n",
    "            substrate_list.append(END_DATE - relativedelta(hours=time))\n",
    "        else:\n",
    "            substrate_list.append(END_DATE - relativedelta(hours=time))\n",
    "            \n",
    "    return END_DATE, preincubate_list, substrate_list"
   ]
  },
  {
   "cell_type": "code",
   "execution_count": 5,
   "metadata": {
    "collapsed": false
   },
   "outputs": [],
   "source": [
    "## Add Events to Google Calendar\n",
    "def Add2Calendar(end, preincubate, ammend, unit,labels):\n",
    "   \n",
    "    # Add Preincubation Dates\n",
    "    if len(preincubate) > 0:  #IF preincubation was selected\n",
    "        count = 0\n",
    "        for day in preincubate:\n",
    "            quote = subprocess.check_output('fortune') # Grab Quote to Inspire\n",
    "            quote = re.sub('[^a-zA-Z0-9 \\n\\.]', '', quote) #Fortune tends to break the script w/ special char.\n",
    "            \n",
    "            os.system(' '.join([\n",
    "                \"gcalcli\",\n",
    "                \"--calendar\",\n",
    "                '\\'Roli Wilhelm\\'',\n",
    "                \"--title\",\n",
    "                '\\'PREINCUBATE MICROCOSMS for'+unit+\" \"+labels[count]+'\\'',\n",
    "                \"--when\",\n",
    "                '\\''+str(day)+'\\'',\n",
    "                \"--reminder\",\n",
    "                '\\'30\\'',\n",
    "                \"--where\",\n",
    "                '\\'708 Bradfield\\'',\n",
    "                \"--duration\",\n",
    "                '\\'20\\'',\n",
    "                \"--description\",\n",
    "                '\\''+quote+'\\'',\n",
    "                \"add\"\n",
    "            ]))    \n",
    "\n",
    "            count = count + 1\n",
    "    \n",
    "    # Add Substrate Dates\n",
    "    count = 0\n",
    "    for day in ammend:\n",
    "        quote = subprocess.check_output('fortune') # Grab Quote to Inspire\n",
    "        quote = re.sub('[^a-zA-Z0-9 \\n\\.]', '', quote) #Fortune tends to break the script w/ special char.\n",
    "        \n",
    "        os.system(' '.join([\n",
    "            \"gcalcli\",\n",
    "            \"--calendar\",\n",
    "            '\\'Roli Wilhelm\\'',\n",
    "            \"--title\",\n",
    "            '\\'AMMEND MICROCOSMS with Substrate for '+unit+\" \"+labels[count]+'\\'',\n",
    "            \"--when\",\n",
    "            '\\''+str(day)+'\\'',\n",
    "            \"--reminder\",\n",
    "            '\\'30\\'',\n",
    "            \"--where\",\n",
    "            '\\'708 Bradfield\\'',\n",
    "            \"--duration\",\n",
    "            '\\'20\\'',\n",
    "            \"--description\",\n",
    "            '\\''+quote+'\\'',\n",
    "            \"add\"\n",
    "        ]))    \n",
    "\n",
    "        count = count + 1\n",
    "        \n",
    "    # Add End Date\n",
    "    os.system(' '.join([\n",
    "        \"gcalcli\",\n",
    "        \"--calendar\",\n",
    "        '\\'Roli Wilhelm\\'',\n",
    "        \"--title\",\n",
    "        '\\'END OF MICROCOSM EXPERIMENT\\'',\n",
    "        \"--when\",\n",
    "        '\\''+str(end)+'\\'',\n",
    "        \"--reminder\",\n",
    "        '\\'60\\'',\n",
    "        \"--where\",\n",
    "        '\\'708 Bradfield\\'',\n",
    "        \"--duration\",\n",
    "        '\\'180\\'',\n",
    "        \"--description\",\n",
    "        '\\'Lyophilize\\'',\n",
    "        \"add\"\n",
    "    ]))    "
   ]
  },
  {
   "cell_type": "code",
   "execution_count": 6,
   "metadata": {
    "collapsed": true
   },
   "outputs": [],
   "source": [
    "def main():\n",
    "    start = ObtainStart()\n",
    "    timepoints,labels,unit = ObtainTimePoints()\n",
    "    end, preincubate, ammend = Schedule(start, timepoints)\n",
    "    \n",
    "    Add2Calendar(end, preincubate, ammend, unit,labels)\n",
    "    \n",
    "    \"\"\"if len(preincubate) > 0:  #IF preincubation was selected\n",
    "        print(\"Preincubate Times\")\n",
    "        for i in preincubate:\n",
    "            print(i)\n",
    "        \n",
    "    print(\"Substrate Addition Times\")\n",
    "    for i in ammend:\n",
    "        print(i)\n",
    "    \n",
    "    print(\"End Date\")\n",
    "    print(end)\"\"\""
   ]
  },
  {
   "cell_type": "code",
   "execution_count": 7,
   "metadata": {
    "collapsed": false
   },
   "outputs": [
    {
     "name": "stdout",
     "output_type": "stream",
     "text": [
      "You have scheduled 3 timepoints, on the time-scale of hour\n"
     ]
    }
   ],
   "source": [
    "main()"
   ]
  }
 ],
 "metadata": {
  "kernelspec": {
   "display_name": "Python 2",
   "language": "python",
   "name": "python2"
  },
  "language_info": {
   "codemirror_mode": {
    "name": "ipython",
    "version": 2
   },
   "file_extension": ".py",
   "mimetype": "text/x-python",
   "name": "python",
   "nbconvert_exporter": "python",
   "pygments_lexer": "ipython2",
   "version": "2.7.13"
  }
 },
 "nbformat": 4,
 "nbformat_minor": 2
}
